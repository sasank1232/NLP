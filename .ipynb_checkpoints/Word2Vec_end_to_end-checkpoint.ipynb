{
  "cells": [
    {
      "cell_type": "markdown",
      "source": [
        "Word2Vec is a popular technique in Natural Language Processing (NLP) for learning word embeddings.\n",
        "\n",
        "These embeddings are dense vectors that capture the semantic meaning of words.\n",
        "\n",
        "For example:\n",
        "\n",
        "**Similarity:** Words that have similar meanings or are used in similar contexts are considered semantically similar. For example, \"king\" and \"queen\" are semantically similar because they both refer to royalty.\n",
        "\n",
        "**Synonymy:** Words that are synonymous share a similar meaning. For instance, \"happy\" and \"joyful\" are synonyms and would be close to each other in a semantic space.\n",
        "\n",
        "**Antonymy:** Words that have opposite meanings are antonyms. While they are semantically related, their meanings are opposite (e.g., \"hot\" vs. \"cold\"). In a semantic space, antonyms may be close but with opposing directions.\n",
        "\n",
        "**Contextual Usage:** Words that appear in similar contexts often have related meanings. For example, \"doctor\" and \"nurse\" often appear together in medical contexts and thus have a semantic relationship.\n",
        "\n",
        "**Conceptual Relationships:** Some words are related through broader conceptual links, like \"apple\" and \"fruit,\" where one is a type of the other.\n",
        "\n"
      ],
      "metadata": {
        "id": "7aUZo_ErHHQ-"
      }
    },
    {
      "cell_type": "markdown",
      "source": [
        "Introduced by Google in 2013, Word2Vec has two main architectures for generating these word vectors:"
      ],
      "metadata": {
        "id": "AEAVhz-UIozq"
      }
    },
    {
      "cell_type": "markdown",
      "source": [
        "<img id=\"dimg_243\" src=\"data:image/png;base64,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\" class=\"YQ4gaf\" height=\"171\" style=\"object-position:center\" width=\"294\" alt=\"Skip-gram architecture of word2vec [16 ...\" data-csiid=\"rxnYZrG7J9aQseMP_8fbsAc_23\" data-atf=\"1\">"
      ],
      "metadata": {
        "id": "Nj6BxxXAKHo2"
      }
    },
    {
      "cell_type": "markdown",
      "source": [
        "## 1. Skip-Gram Model\n",
        "\n",
        "**Objective:** The goal of the Skip-Gram model is to predict the context words given a target word.\n",
        "\n",
        "**Training Process:**\n",
        "\n",
        "For a given target word in a sentence, the model tries to predict the surrounding context words within a certain window size.\n",
        "\n",
        "For example, if the sentence is \"The cat sat on the mat\" and\n",
        " the target word is \"sat\" with a window size of 2, the context words would be \"cat,\" \"on,\" \"the,\" and \"mat.\"\n",
        "\n",
        "The model learns to maximize the probability of these context words given the target word. The optimization involves adjusting the weights of the neural network to minimize the loss function, which typically measures the difference between the predicted and actual context words.\n",
        "\n",
        "\n",
        "Architecture: The neural network used is a simple feedforward neural network with a single hidden layer. The input is the one-hot encoded vector of the target word, and the output is the probability distribution over all words in the vocabulary.\n",
        "\n",
        "\n"
      ],
      "metadata": {
        "id": "i-ZFdcq4IuGh"
      }
    },
    {
      "cell_type": "markdown",
      "source": [
        "## Example Sentence:\n",
        "\n",
        "**Consider the sentence:**\n",
        "\n",
        "    -  \"The quick brown fox jumps over the lazy dog.\"\n",
        "\n",
        "**Step-by-Step Process:**\n",
        "\n",
        "- Choose the Target Word:\n",
        "\n",
        "- Let's select \"quick\" as our target word.\n",
        "\n",
        "\n",
        "**Define the Context Window Size:**\n",
        "\n",
        "- Assume the context window size is 2.\n",
        "\n",
        "- This means we will ll consider the two words before and the two words after the target word as the context.\n",
        "\n",
        "- For the target word \"quick,\" the context words are:\n",
        "\n",
        "    -  Before: \"The\"\n",
        "\n",
        "    -  After: \"brown\", \"fox\"\n",
        "\n",
        "\n",
        "- Therefore, the context words for \"quick\" are [\"The\", \"brown\", \"fox\"].\n",
        "\n",
        "**Training Data Generation:**\n",
        "\n",
        "- The Skip-Gram model generates (target, context) pairs for training.\n",
        "\n",
        "- For the word \"quick,\" the training pairs would be:\n",
        "        (\"quick\", \"The\")\n",
        "        (\"quick\", \"brown\")\n",
        "        (\"quick\", \"fox\")\n",
        "\n",
        "**Model Structure:**\n",
        "\n",
        "- Input Layer: The input is a one-hot encoded vector representing the target word \"quick.\" Suppose the vocabulary size is 10,000; this vector will be 10,000-dimensional, with a 1 at the index corresponding to \"quick\" and 0s elsewhere.\n",
        "\n",
        "- Hidden Layer: The hidden layer size determines the dimensionality of the word embeddings. Lets say we choose 300 dimensions. The input vector is multiplied by the weight matrix to produce a 300-dimensional vector.\n",
        "\n",
        "- Output Layer: The output is a softmax layer that predicts the probability distribution over the entire vocabulary. The model tries to maximize the probability of the correct context word given the target word.\n",
        "\n",
        "**Training the Model:**\n",
        "\n",
        "The model adjusts its weights to increase the probability of the actual context words. For example, for the pair (\"quick\", \"The\"), the model is trained to increase the probability of predicting \"The\" when the input is \"quick.\"\n",
        "\n",
        "This process is repeated for each context word, adjusting the weights through backpropagation and updating them using an optimization algorithm like Stochastic Gradient Descent (SGD).\n",
        "\n",
        "**Resulting Word Embeddings:**\n",
        "\n",
        "After training on many such (target, context) pairs, the model learns word embeddings that capture the relationships between words. Words that appear in similar contexts will have similar vector representations in the embedding space."
      ],
      "metadata": {
        "id": "yjfNXoZDKqqZ"
      }
    },
    {
      "cell_type": "code",
      "source": [],
      "metadata": {
        "id": "KQW7dw0SInTt"
      },
      "execution_count": null,
      "outputs": []
    },
    {
      "cell_type": "markdown",
      "source": [
        "**Continuous Bag of Words (CBOW):**\n",
        "\n",
        "-  Predicts the target word (center word) from the context words (surrounding words).\n",
        "\n",
        "- Skip-Gram: Predicts the context words from the target word (center word).\n"
      ],
      "metadata": {
        "id": "nUKn_86gH9Dy"
      }
    },
    {
      "cell_type": "markdown",
      "source": [],
      "metadata": {
        "id": "KmxUnLYKH7z5"
      }
    },
    {
      "cell_type": "code",
      "execution_count": null,
      "metadata": {
        "colab": {
          "base_uri": "https://localhost:8080/"
        },
        "id": "kg-t2aMIWx3H",
        "outputId": "76ca3a1f-1ce2-4fe2-c7fd-c34ceccb05ea"
      },
      "outputs": [
        {
          "output_type": "stream",
          "name": "stdout",
          "text": [
            "Requirement already satisfied: gensim in /usr/local/lib/python3.10/dist-packages (4.3.3)\n",
            "Requirement already satisfied: numpy<2.0,>=1.18.5 in /usr/local/lib/python3.10/dist-packages (from gensim) (1.26.4)\n",
            "Requirement already satisfied: scipy<1.14.0,>=1.7.0 in /usr/local/lib/python3.10/dist-packages (from gensim) (1.13.1)\n",
            "Requirement already satisfied: smart-open>=1.8.1 in /usr/local/lib/python3.10/dist-packages (from gensim) (7.0.4)\n",
            "Requirement already satisfied: wrapt in /usr/local/lib/python3.10/dist-packages (from smart-open>=1.8.1->gensim) (1.16.0)\n"
          ]
        }
      ],
      "source": [
        "!pip install gensim"
      ]
    },
    {
      "cell_type": "code",
      "execution_count": null,
      "metadata": {
        "id": "q_IFFlbLW2ey"
      },
      "outputs": [],
      "source": [
        "import gensim"
      ]
    },
    {
      "cell_type": "code",
      "execution_count": null,
      "metadata": {
        "id": "qiCrI1VaW7m0"
      },
      "outputs": [],
      "source": [
        "from gensim.models import Word2Vec, KeyedVectors"
      ]
    },
    {
      "cell_type": "code",
      "source": [
        "import nltk\n",
        "nltk.download('punkt')"
      ],
      "metadata": {
        "colab": {
          "base_uri": "https://localhost:8080/"
        },
        "id": "WNJ-B8LWMJ9l",
        "outputId": "bba21a43-498d-4d18-9037-66fa6ca15b23"
      },
      "execution_count": null,
      "outputs": [
        {
          "output_type": "stream",
          "name": "stderr",
          "text": [
            "[nltk_data] Downloading package punkt to /root/nltk_data...\n",
            "[nltk_data]   Unzipping tokenizers/punkt.zip.\n"
          ]
        },
        {
          "output_type": "execute_result",
          "data": {
            "text/plain": [
              "True"
            ]
          },
          "metadata": {},
          "execution_count": 23
        }
      ]
    },
    {
      "cell_type": "markdown",
      "source": [
        "$Step-2$\n",
        "\n",
        "**Prepare the data**"
      ],
      "metadata": {
        "id": "Ig4cmX60MXhY"
      }
    },
    {
      "cell_type": "code",
      "source": [
        "from gensim.models import Word2Vec\n",
        "from nltk.tokenize import word_tokenize\n",
        "\n",
        "# Sample corpus\n",
        "corpus = [\n",
        "    \"I love machine learning\",\n",
        "    \"Machine learning is amazing\",\n",
        "    \"Natural Language Processing is a part of machine learning\",\n",
        "    \"Word2Vec is used in many NLP tasks\"\n",
        "]\n",
        "\n",
        "# Tokenize the sentences\n",
        "tokenized_corpus = [word_tokenize(sentence.lower()) for sentence in corpus]\n",
        "tokenized_corpus"
      ],
      "metadata": {
        "colab": {
          "base_uri": "https://localhost:8080/"
        },
        "id": "wxHw0ZE3MAfn",
        "outputId": "e6807146-6577-4b6d-b0c6-1a73fd279187"
      },
      "execution_count": null,
      "outputs": [
        {
          "output_type": "execute_result",
          "data": {
            "text/plain": [
              "[['i', 'love', 'machine', 'learning'],\n",
              " ['machine', 'learning', 'is', 'amazing'],\n",
              " ['natural',\n",
              "  'language',\n",
              "  'processing',\n",
              "  'is',\n",
              "  'a',\n",
              "  'part',\n",
              "  'of',\n",
              "  'machine',\n",
              "  'learning'],\n",
              " ['word2vec', 'is', 'used', 'in', 'many', 'nlp', 'tasks']]"
            ]
          },
          "metadata": {},
          "execution_count": 24
        }
      ]
    },
    {
      "cell_type": "markdown",
      "source": [
        "$Step-3$\n",
        "\n",
        "**Train the word2vec model**"
      ],
      "metadata": {
        "id": "pu3R44w5MhNZ"
      }
    },
    {
      "cell_type": "code",
      "source": [
        "# Train the Word2Vec model\n",
        "model = Word2Vec(sentences=tokenized_corpus, vector_size=100, window=2, min_count=1, sg=0)\n",
        "\n",
        "# sg=0 for CBOW, sg=1 for Skip-Gram\n",
        "#vector_size=100: The number of dimensions of the word vectors.\n",
        "#window=2: The maximum distance between the current and predicted word within a sentence.\n",
        "#min_count=1: Ignores all words with total frequency lower than this.\n",
        "#sg=0: Specifies the training algorithm (0 for CBOW, 1 for Skip-Gram)."
      ],
      "metadata": {
        "id": "G7dC-XkfMgvW"
      },
      "execution_count": null,
      "outputs": []
    },
    {
      "cell_type": "markdown",
      "source": [
        "$Step-4$\n",
        "\n",
        "**Explore the vectors**"
      ],
      "metadata": {
        "id": "CfkmT7FDM2RY"
      }
    },
    {
      "cell_type": "code",
      "source": [
        "# Get the vector for a word\n",
        "vector = model.wv['machine']\n",
        "print(\"Vector for 'machine':\", vector)\n",
        "\n",
        "# Find similar words\n",
        "similar_words = model.wv.most_similar('machine', topn=5)\n",
        "print(\"Words similar to 'machine':\", similar_words)\n"
      ],
      "metadata": {
        "colab": {
          "base_uri": "https://localhost:8080/"
        },
        "id": "e3Jv7m5AMy6I",
        "outputId": "03216773-5073-4422-bc73-d3d931777dcf"
      },
      "execution_count": null,
      "outputs": [
        {
          "output_type": "stream",
          "name": "stdout",
          "text": [
            "Vector for 'machine': [-5.3622725e-04  2.3643136e-04  5.1033497e-03  9.0092728e-03\n",
            " -9.3029495e-03 -7.1168090e-03  6.4588725e-03  8.9729885e-03\n",
            " -5.0154282e-03 -3.7633716e-03  7.3805046e-03 -1.5334714e-03\n",
            " -4.5366134e-03  6.5540518e-03 -4.8601604e-03 -1.8160177e-03\n",
            "  2.8765798e-03  9.9187379e-04 -8.2852151e-03 -9.4488179e-03\n",
            "  7.3117660e-03  5.0702621e-03  6.7576934e-03  7.6286553e-04\n",
            "  6.3508903e-03 -3.4053659e-03 -9.4640139e-04  5.7685734e-03\n",
            " -7.5216377e-03 -3.9361035e-03 -7.5115822e-03 -9.3004224e-04\n",
            "  9.5381187e-03 -7.3191668e-03 -2.3337686e-03 -1.9377411e-03\n",
            "  8.0774371e-03 -5.9308959e-03  4.5162440e-05 -4.7537340e-03\n",
            " -9.6035507e-03  5.0072931e-03 -8.7595852e-03 -4.3918253e-03\n",
            " -3.5099984e-05 -2.9618145e-04 -7.6612402e-03  9.6147433e-03\n",
            "  4.9820580e-03  9.2331432e-03 -8.1579173e-03  4.4957981e-03\n",
            " -4.1370760e-03  8.2453608e-04  8.4986202e-03 -4.4621765e-03\n",
            "  4.5175003e-03 -6.7869602e-03 -3.5484887e-03  9.3985079e-03\n",
            " -1.5776526e-03  3.2137157e-04 -4.1406299e-03 -7.6826881e-03\n",
            " -1.5080082e-03  2.4697948e-03 -8.8802696e-04  5.5336617e-03\n",
            " -2.7429771e-03  2.2600652e-03  5.4557943e-03  8.3459532e-03\n",
            " -1.4537406e-03 -9.2081428e-03  4.3705525e-03  5.7178497e-04\n",
            "  7.4419081e-03 -8.1328274e-04 -2.6384138e-03 -8.7530091e-03\n",
            " -8.5655687e-04  2.8265631e-03  5.4014288e-03  7.0526563e-03\n",
            " -5.7031214e-03  1.8588197e-03  6.0888636e-03 -4.7980510e-03\n",
            " -3.1072604e-03  6.7976294e-03  1.6314756e-03  1.8991709e-04\n",
            "  3.4736372e-03  2.1777749e-04  9.6188262e-03  5.0606038e-03\n",
            " -8.9173904e-03 -7.0415605e-03  9.0145587e-04  6.3925339e-03]\n",
            "Words similar to 'machine': [('many', 0.21883945167064667), ('processing', 0.21617579460144043), ('of', 0.09316979348659515), ('natural', 0.09292881190776825), ('part', 0.07969934493303299)]\n"
          ]
        }
      ]
    },
    {
      "cell_type": "code",
      "source": [],
      "metadata": {
        "id": "vieqv3BxSy4X"
      },
      "execution_count": null,
      "outputs": []
    },
    {
      "cell_type": "markdown",
      "source": [
        "**Step 5: Save and Load the Model**"
      ],
      "metadata": {
        "id": "t5Ly9M14NGeT"
      }
    },
    {
      "cell_type": "code",
      "source": [
        "# Save the model\n",
        "model.save(\"word2vec.model\")\n",
        "\n",
        "# Load the model\n",
        "loaded_model = Word2Vec.load(\"word2vec.model\")\n"
      ],
      "metadata": {
        "id": "MNMKuVwtNK1b"
      },
      "execution_count": null,
      "outputs": []
    },
    {
      "cell_type": "code",
      "source": [
        "loaded_model.wv['machine']"
      ],
      "metadata": {
        "colab": {
          "base_uri": "https://localhost:8080/"
        },
        "id": "KxNhWAw1NNe-",
        "outputId": "d701415c-a2aa-490d-8338-d3be99da7b77"
      },
      "execution_count": null,
      "outputs": [
        {
          "output_type": "execute_result",
          "data": {
            "text/plain": [
              "array([-5.3622725e-04,  2.3643136e-04,  5.1033497e-03,  9.0092728e-03,\n",
              "       -9.3029495e-03, -7.1168090e-03,  6.4588725e-03,  8.9729885e-03,\n",
              "       -5.0154282e-03, -3.7633716e-03,  7.3805046e-03, -1.5334714e-03,\n",
              "       -4.5366134e-03,  6.5540518e-03, -4.8601604e-03, -1.8160177e-03,\n",
              "        2.8765798e-03,  9.9187379e-04, -8.2852151e-03, -9.4488179e-03,\n",
              "        7.3117660e-03,  5.0702621e-03,  6.7576934e-03,  7.6286553e-04,\n",
              "        6.3508903e-03, -3.4053659e-03, -9.4640139e-04,  5.7685734e-03,\n",
              "       -7.5216377e-03, -3.9361035e-03, -7.5115822e-03, -9.3004224e-04,\n",
              "        9.5381187e-03, -7.3191668e-03, -2.3337686e-03, -1.9377411e-03,\n",
              "        8.0774371e-03, -5.9308959e-03,  4.5162440e-05, -4.7537340e-03,\n",
              "       -9.6035507e-03,  5.0072931e-03, -8.7595852e-03, -4.3918253e-03,\n",
              "       -3.5099984e-05, -2.9618145e-04, -7.6612402e-03,  9.6147433e-03,\n",
              "        4.9820580e-03,  9.2331432e-03, -8.1579173e-03,  4.4957981e-03,\n",
              "       -4.1370760e-03,  8.2453608e-04,  8.4986202e-03, -4.4621765e-03,\n",
              "        4.5175003e-03, -6.7869602e-03, -3.5484887e-03,  9.3985079e-03,\n",
              "       -1.5776526e-03,  3.2137157e-04, -4.1406299e-03, -7.6826881e-03,\n",
              "       -1.5080082e-03,  2.4697948e-03, -8.8802696e-04,  5.5336617e-03,\n",
              "       -2.7429771e-03,  2.2600652e-03,  5.4557943e-03,  8.3459532e-03,\n",
              "       -1.4537406e-03, -9.2081428e-03,  4.3705525e-03,  5.7178497e-04,\n",
              "        7.4419081e-03, -8.1328274e-04, -2.6384138e-03, -8.7530091e-03,\n",
              "       -8.5655687e-04,  2.8265631e-03,  5.4014288e-03,  7.0526563e-03,\n",
              "       -5.7031214e-03,  1.8588197e-03,  6.0888636e-03, -4.7980510e-03,\n",
              "       -3.1072604e-03,  6.7976294e-03,  1.6314756e-03,  1.8991709e-04,\n",
              "        3.4736372e-03,  2.1777749e-04,  9.6188262e-03,  5.0606038e-03,\n",
              "       -8.9173904e-03, -7.0415605e-03,  9.0145587e-04,  6.3925339e-03],\n",
              "      dtype=float32)"
            ]
          },
          "metadata": {},
          "execution_count": 28
        }
      ]
    },
    {
      "cell_type": "code",
      "source": [
        "# Get the list of words in the vocabulary\n",
        "vocabulary_list = list(model.wv.index_to_key)\n",
        "\n",
        "# Print the vocabulary\n",
        "print(vocabulary_list)\n"
      ],
      "metadata": {
        "colab": {
          "base_uri": "https://localhost:8080/"
        },
        "id": "qFS1q-9VNu-j",
        "outputId": "a5d8b2b3-63e5-4a59-dbca-814eb4eadd32"
      },
      "execution_count": null,
      "outputs": [
        {
          "output_type": "stream",
          "name": "stdout",
          "text": [
            "['machine', 'learning', 'is', 'tasks', 'nlp', 'love', 'amazing', 'natural', 'language', 'processing', 'a', 'part', 'of', 'word2vec', 'used', 'in', 'many', 'i']\n"
          ]
        }
      ]
    },
    {
      "cell_type": "markdown",
      "source": [
        "**Step-6**\n",
        "\n",
        "**Cretae sentence vectors**\n",
        "\n",
        "**Word Vector:**\n",
        "\n",
        "-  The Word2Vec model learns a vector for each word, representing its semantic meaning in a high-dimensional space.\n",
        "\n",
        "**Sentence Vector:**\n",
        "\n",
        "-  To represent a sentence, we average the vectors of all the words in the sentence. This vector summarizes the sentence's meaning in the same 100-dimensional space."
      ],
      "metadata": {
        "id": "OFd1IyBnS_ED"
      }
    },
    {
      "cell_type": "code",
      "source": [
        "tokenized_corpus[0]"
      ],
      "metadata": {
        "colab": {
          "base_uri": "https://localhost:8080/"
        },
        "id": "MKdA43sRTVjc",
        "outputId": "cb759f57-4916-44fa-fa4a-670f15a7a3f5"
      },
      "execution_count": null,
      "outputs": [
        {
          "output_type": "execute_result",
          "data": {
            "text/plain": [
              "['i', 'love', 'machine', 'learning']"
            ]
          },
          "metadata": {},
          "execution_count": 14
        }
      ]
    },
    {
      "cell_type": "code",
      "source": [
        "import numpy as np\n",
        "\n",
        "sentence_vector = np.mean(\n",
        "    [model.wv[word] for word in tokenized_corpus[0]],\n",
        "    axis=0\n",
        ")\n",
        "print(len(sentence_vector))\n"
      ],
      "metadata": {
        "colab": {
          "base_uri": "https://localhost:8080/"
        },
        "id": "3GUIerAhNzne",
        "outputId": "e115857f-9129-4203-8e68-fcbf8f5c60e9"
      },
      "execution_count": null,
      "outputs": [
        {
          "output_type": "stream",
          "name": "stdout",
          "text": [
            "100\n"
          ]
        }
      ]
    },
    {
      "cell_type": "code",
      "source": [
        "## Original model##"
      ],
      "metadata": {
        "id": "nUppGodSN2pS"
      },
      "execution_count": null,
      "outputs": []
    },
    {
      "cell_type": "markdown",
      "source": [
        "## Original model##"
      ],
      "metadata": {
        "id": "JQYoO062N7MW"
      }
    },
    {
      "cell_type": "code",
      "execution_count": null,
      "metadata": {
        "colab": {
          "base_uri": "https://localhost:8080/"
        },
        "id": "IliYpkr6XWu9",
        "outputId": "004a8a89-9b3f-4250-e855-2fdc5d5c83b3"
      },
      "outputs": [
        {
          "output_type": "stream",
          "name": "stdout",
          "text": [
            "[==================================================] 100.0% 1662.8/1662.8MB downloaded\n"
          ]
        },
        {
          "output_type": "execute_result",
          "data": {
            "text/plain": [
              "<gensim.models.keyedvectors.KeyedVectors at 0x7c60764be350>"
            ]
          },
          "metadata": {},
          "execution_count": 2
        }
      ],
      "source": [
        "import gensim.downloader as api\n",
        "wv=api.load(\"word2vec-google-news-300\")\n",
        "wv"
      ]
    },
    {
      "cell_type": "code",
      "source": [
        "#from gensim.models import Word2Vec"
      ],
      "metadata": {
        "id": "IeojyqOTEn-_"
      },
      "execution_count": null,
      "outputs": []
    },
    {
      "cell_type": "code",
      "source": [
        "#dir(Word2Vec)"
      ],
      "metadata": {
        "id": "B0Q_yjgeFBRR"
      },
      "execution_count": null,
      "outputs": []
    },
    {
      "cell_type": "code",
      "execution_count": null,
      "metadata": {
        "colab": {
          "base_uri": "https://localhost:8080/"
        },
        "id": "VnGRR1d2SxHJ",
        "outputId": "f521e428-e080-46bc-ea51-3301ca67f8c0"
      },
      "outputs": [
        {
          "output_type": "execute_result",
          "data": {
            "text/plain": [
              "array([ 1.25976562e-01,  2.97851562e-02,  8.60595703e-03,  1.39648438e-01,\n",
              "       -2.56347656e-02, -3.61328125e-02,  1.11816406e-01, -1.98242188e-01,\n",
              "        5.12695312e-02,  3.63281250e-01, -2.42187500e-01, -3.02734375e-01,\n",
              "       -1.77734375e-01, -2.49023438e-02, -1.67968750e-01, -1.69921875e-01,\n",
              "        3.46679688e-02,  5.21850586e-03,  4.63867188e-02,  1.28906250e-01,\n",
              "        1.36718750e-01,  1.12792969e-01,  5.95703125e-02,  1.36718750e-01,\n",
              "        1.01074219e-01, -1.76757812e-01, -2.51953125e-01,  5.98144531e-02,\n",
              "        3.41796875e-01, -3.11279297e-02,  1.04492188e-01,  6.17675781e-02,\n",
              "        1.24511719e-01,  4.00390625e-01, -3.22265625e-01,  8.39843750e-02,\n",
              "        3.90625000e-02,  5.85937500e-03,  7.03125000e-02,  1.72851562e-01,\n",
              "        1.38671875e-01, -2.31445312e-01,  2.83203125e-01,  1.42578125e-01,\n",
              "        3.41796875e-01, -2.39257812e-02, -1.09863281e-01,  3.32031250e-02,\n",
              "       -5.46875000e-02,  1.53198242e-02, -1.62109375e-01,  1.58203125e-01,\n",
              "       -2.59765625e-01,  2.01416016e-02, -1.63085938e-01,  1.35803223e-03,\n",
              "       -1.44531250e-01, -5.68847656e-02,  4.29687500e-02, -2.46582031e-02,\n",
              "        1.85546875e-01,  4.47265625e-01,  9.58251953e-03,  1.31835938e-01,\n",
              "        9.86328125e-02, -1.85546875e-01, -1.00097656e-01, -1.33789062e-01,\n",
              "       -1.25000000e-01,  2.83203125e-01,  1.23046875e-01,  5.32226562e-02,\n",
              "       -1.77734375e-01,  8.59375000e-02, -2.18505859e-02,  2.05078125e-02,\n",
              "       -1.39648438e-01,  2.51464844e-02,  1.38671875e-01, -1.05468750e-01,\n",
              "        1.38671875e-01,  8.88671875e-02, -7.51953125e-02, -2.13623047e-02,\n",
              "        1.72851562e-01,  4.63867188e-02, -2.65625000e-01,  8.91113281e-03,\n",
              "        1.49414062e-01,  3.78417969e-02,  2.38281250e-01, -1.24511719e-01,\n",
              "       -2.17773438e-01, -1.81640625e-01,  2.97851562e-02,  5.71289062e-02,\n",
              "       -2.89306641e-02,  1.24511719e-02,  9.66796875e-02, -2.31445312e-01,\n",
              "        5.81054688e-02,  6.68945312e-02,  7.08007812e-02, -3.08593750e-01,\n",
              "       -2.14843750e-01,  1.45507812e-01, -4.27734375e-01, -9.39941406e-03,\n",
              "        1.54296875e-01, -7.66601562e-02,  2.89062500e-01,  2.77343750e-01,\n",
              "       -4.86373901e-04, -1.36718750e-01,  3.24218750e-01, -2.46093750e-01,\n",
              "       -3.03649902e-03, -2.11914062e-01,  1.25000000e-01,  2.69531250e-01,\n",
              "        2.04101562e-01,  8.25195312e-02, -2.01171875e-01, -1.60156250e-01,\n",
              "       -3.78417969e-02, -1.20117188e-01,  1.15234375e-01, -4.10156250e-02,\n",
              "       -3.95507812e-02, -8.98437500e-02,  6.34765625e-03,  2.03125000e-01,\n",
              "        1.86523438e-01,  2.73437500e-01,  6.29882812e-02,  1.41601562e-01,\n",
              "       -9.81445312e-02,  1.38671875e-01,  1.82617188e-01,  1.73828125e-01,\n",
              "        1.73828125e-01, -2.37304688e-01,  1.78710938e-01,  6.34765625e-02,\n",
              "        2.36328125e-01, -2.08984375e-01,  8.74023438e-02, -1.66015625e-01,\n",
              "       -7.91015625e-02,  2.43164062e-01, -8.88671875e-02,  1.26953125e-01,\n",
              "       -2.16796875e-01, -1.73828125e-01, -3.59375000e-01, -8.25195312e-02,\n",
              "       -6.49414062e-02,  5.07812500e-02,  1.35742188e-01, -7.47070312e-02,\n",
              "       -1.64062500e-01,  1.15356445e-02,  4.45312500e-01, -2.15820312e-01,\n",
              "       -1.11328125e-01, -1.92382812e-01,  1.70898438e-01, -1.25000000e-01,\n",
              "        2.65502930e-03,  1.92382812e-01, -1.74804688e-01,  1.39648438e-01,\n",
              "        2.92968750e-01,  1.13281250e-01,  5.95703125e-02, -6.39648438e-02,\n",
              "        9.96093750e-02, -2.72216797e-02,  1.96533203e-02,  4.27246094e-02,\n",
              "       -2.46093750e-01,  6.39648438e-02, -2.25585938e-01, -1.68945312e-01,\n",
              "        2.89916992e-03,  8.20312500e-02,  3.41796875e-01,  4.32128906e-02,\n",
              "        1.32812500e-01,  1.42578125e-01,  7.61718750e-02,  5.98144531e-02,\n",
              "       -1.19140625e-01,  2.74658203e-03, -6.29882812e-02, -2.72216797e-02,\n",
              "       -4.82177734e-03, -8.20312500e-02, -2.49023438e-02, -4.00390625e-01,\n",
              "       -1.06933594e-01,  4.24804688e-02,  7.76367188e-02, -1.16699219e-01,\n",
              "        7.37304688e-02, -9.22851562e-02,  1.07910156e-01,  1.58203125e-01,\n",
              "        4.24804688e-02,  1.26953125e-01,  3.61328125e-02,  2.67578125e-01,\n",
              "       -1.01074219e-01, -3.02734375e-01, -5.76171875e-02,  5.05371094e-02,\n",
              "        5.26428223e-04, -2.07031250e-01, -1.38671875e-01, -8.97216797e-03,\n",
              "       -2.78320312e-02, -1.41601562e-01,  2.07031250e-01, -1.58203125e-01,\n",
              "        1.27929688e-01,  1.49414062e-01, -2.24609375e-02, -8.44726562e-02,\n",
              "        1.22558594e-01,  2.15820312e-01, -2.13867188e-01, -3.12500000e-01,\n",
              "       -3.73046875e-01,  4.08935547e-03,  1.07421875e-01,  1.06933594e-01,\n",
              "        7.32421875e-02,  8.97216797e-03, -3.88183594e-02, -1.29882812e-01,\n",
              "        1.49414062e-01, -2.14843750e-01, -1.83868408e-03,  9.91210938e-02,\n",
              "        1.57226562e-01, -1.14257812e-01, -2.05078125e-01,  9.91210938e-02,\n",
              "        3.69140625e-01, -1.97265625e-01,  3.54003906e-02,  1.09375000e-01,\n",
              "        1.31835938e-01,  1.66992188e-01,  2.35351562e-01,  1.04980469e-01,\n",
              "       -4.96093750e-01, -1.64062500e-01, -1.56250000e-01, -5.22460938e-02,\n",
              "        1.03027344e-01,  2.43164062e-01, -1.88476562e-01,  5.07812500e-02,\n",
              "       -9.37500000e-02, -6.68945312e-02,  2.27050781e-02,  7.61718750e-02,\n",
              "        2.89062500e-01,  3.10546875e-01, -5.37109375e-02,  2.28515625e-01,\n",
              "        2.51464844e-02,  6.78710938e-02, -1.21093750e-01, -2.15820312e-01,\n",
              "       -2.73437500e-01, -3.07617188e-02, -3.37890625e-01,  1.53320312e-01,\n",
              "        2.33398438e-01, -2.08007812e-01,  3.73046875e-01,  8.20312500e-02,\n",
              "        2.51953125e-01, -7.61718750e-02, -4.66308594e-02, -2.23388672e-02,\n",
              "        2.99072266e-02, -5.93261719e-02, -4.66918945e-03, -2.44140625e-01,\n",
              "       -2.09960938e-01, -2.87109375e-01, -4.54101562e-02, -1.77734375e-01,\n",
              "       -2.79296875e-01, -8.59375000e-02,  9.13085938e-02,  2.51953125e-01],\n",
              "      dtype=float32)"
            ]
          },
          "metadata": {},
          "execution_count": 16
        }
      ],
      "source": [
        "vec_king=wv['king']\n",
        "vec_king"
      ]
    },
    {
      "cell_type": "code",
      "execution_count": null,
      "metadata": {
        "colab": {
          "base_uri": "https://localhost:8080/"
        },
        "id": "AbTJZCfNXrIe",
        "outputId": "c88d6843-c2dc-4f78-98c4-e5db89b18316"
      },
      "outputs": [
        {
          "output_type": "execute_result",
          "data": {
            "text/plain": [
              "(300,)"
            ]
          },
          "metadata": {},
          "execution_count": 11
        }
      ],
      "source": [
        "vec_king.shape  # on 300 contextual feature the model is trained"
      ]
    },
    {
      "cell_type": "code",
      "execution_count": null,
      "metadata": {
        "colab": {
          "base_uri": "https://localhost:8080/"
        },
        "id": "dkvsqSNI5a_E",
        "outputId": "01b323e0-bf98-4772-b93d-fd42be64a2e7"
      },
      "outputs": [
        {
          "output_type": "execute_result",
          "data": {
            "text/plain": [
              "0.7190051"
            ]
          },
          "metadata": {},
          "execution_count": 18
        }
      ],
      "source": [
        "wv.similarity('king','queen')  # cosine similairt two words\n",
        "wv.similarity('good','bad')"
      ]
    },
    {
      "cell_type": "code",
      "execution_count": null,
      "metadata": {
        "id": "c_TVe207VnLw"
      },
      "outputs": [],
      "source": [
        "wv.similarity()"
      ]
    },
    {
      "cell_type": "markdown",
      "metadata": {
        "id": "EnHgCnR3UeW3"
      },
      "source": [
        "- take the king vector seperately\n",
        "\n",
        "- also queen vector\n",
        "\n",
        "- Will perform the Cosine similarity"
      ]
    },
    {
      "cell_type": "code",
      "execution_count": null,
      "metadata": {
        "id": "I15vzsOo5mfA"
      },
      "outputs": [],
      "source": [
        "vec_king=wv['king']\n",
        "vec_queen=wv['queen']"
      ]
    },
    {
      "cell_type": "markdown",
      "metadata": {
        "id": "s2N48H_56bCA"
      },
      "source": [
        "![image.png](data:image/png;base64,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)"
      ]
    },
    {
      "cell_type": "code",
      "execution_count": null,
      "metadata": {
        "colab": {
          "base_uri": "https://localhost:8080/"
        },
        "id": "Xa8yoU6M6HYh",
        "outputId": "50a73569-2f07-4e32-fde0-9c0396229ca4"
      },
      "outputs": [
        {
          "output_type": "stream",
          "name": "stdout",
          "text": [
            "Cosine Similarity: 0.6510956\n"
          ]
        }
      ],
      "source": [
        "# import required libraries\n",
        "import numpy as np\n",
        "from numpy.linalg import norm\n",
        "\n",
        "# define two lists or arra\n",
        "\n",
        "# compute cosine similarity\n",
        "cosine = np.dot(vec_king,vec_queen)/(norm(vec_king)*norm(vec_queen))\n",
        "print(\"Cosine Similarity:\", cosine)"
      ]
    },
    {
      "cell_type": "code",
      "execution_count": null,
      "metadata": {
        "colab": {
          "base_uri": "https://localhost:8080/"
        },
        "id": "9O48wsF76lPe",
        "outputId": "7e4553a8-36b8-4c3c-d32b-eb3d64e9b852"
      },
      "outputs": [
        {
          "output_type": "execute_result",
          "data": {
            "text/plain": [
              "[('kings', 0.7138045430183411),\n",
              " ('queen', 0.6510956883430481),\n",
              " ('monarch', 0.6413194537162781),\n",
              " ('crown_prince', 0.6204220056533813),\n",
              " ('prince', 0.6159993410110474),\n",
              " ('sultan', 0.5864824056625366),\n",
              " ('ruler', 0.5797567367553711),\n",
              " ('princes', 0.5646552443504333),\n",
              " ('Prince_Paras', 0.5432944297790527),\n",
              " ('throne', 0.5422105193138123)]"
            ]
          },
          "metadata": {},
          "execution_count": 21
        }
      ],
      "source": [
        "wv.most_similar('king')"
      ]
    },
    {
      "cell_type": "code",
      "execution_count": null,
      "metadata": {
        "colab": {
          "base_uri": "https://localhost:8080/"
        },
        "id": "GbPjHGxz60sM",
        "outputId": "6c7258cb-b0d7-42a7-90c4-d45e0d2f62ee"
      },
      "outputs": [
        {
          "output_type": "execute_result",
          "data": {
            "text/plain": [
              "[('Telangana', 0.7098552584648132),\n",
              " ('Telengana', 0.7074891328811646),\n",
              " ('Seema_Andhra', 0.6626746654510498),\n",
              " ('Telangana_protagonists', 0.6453095078468323),\n",
              " ('TDP_politburo_member', 0.6418837308883667),\n",
              " ('Madhu_Yashki', 0.6368694305419922),\n",
              " ('Telangana_JAC', 0.6334327459335327),\n",
              " ('Telangana_Rashtra_Samiti', 0.6320290565490723),\n",
              " ('Telangana_Rashtra_Samithi', 0.6315802335739136),\n",
              " ('Rayalseema', 0.6294906735420227)]"
            ]
          },
          "metadata": {},
          "execution_count": 14
        }
      ],
      "source": [
        "wv.most_similar('Telanagana')"
      ]
    },
    {
      "cell_type": "code",
      "source": [],
      "metadata": {
        "id": "cfFsPW7yH5KP"
      },
      "execution_count": null,
      "outputs": []
    },
    {
      "cell_type": "markdown",
      "source": [
        "https://github.com/piskvorky/gensim/wiki/Migrating-from-Gensim-3.x-to-4"
      ],
      "metadata": {
        "id": "g1QNql5YH5jx"
      }
    },
    {
      "cell_type": "code",
      "execution_count": null,
      "metadata": {
        "id": "1QS5vPF9IST4",
        "colab": {
          "base_uri": "https://localhost:8080/",
          "height": 297
        },
        "outputId": "b7ee4ea1-89ef-4f64-de38-1e497d230604"
      },
      "outputs": [
        {
          "output_type": "error",
          "ename": "AttributeError",
          "evalue": "The vocab attribute was removed from KeyedVector in Gensim 4.0.0.\nUse KeyedVector's .key_to_index dict, .index_to_key list, and methods .get_vecattr(key, attr) and .set_vecattr(key, attr, new_val) instead.\nSee https://github.com/RaRe-Technologies/gensim/wiki/Migrating-from-Gensim-3.x-to-4",
          "traceback": [
            "\u001b[0;31m---------------------------------------------------------------------------\u001b[0m",
            "\u001b[0;31mAttributeError\u001b[0m                            Traceback (most recent call last)",
            "\u001b[0;32m<ipython-input-16-f3791d82984b>\u001b[0m in \u001b[0;36m<cell line: 1>\u001b[0;34m()\u001b[0m\n\u001b[0;32m----> 1\u001b[0;31m \u001b[0mwv\u001b[0m\u001b[0;34m.\u001b[0m\u001b[0mvocab\u001b[0m\u001b[0;34m\u001b[0m\u001b[0;34m\u001b[0m\u001b[0m\n\u001b[0m",
            "\u001b[0;32m/usr/local/lib/python3.10/dist-packages/gensim/models/keyedvectors.py\u001b[0m in \u001b[0;36mvocab\u001b[0;34m(self)\u001b[0m\n\u001b[1;32m    732\u001b[0m     \u001b[0;34m@\u001b[0m\u001b[0mproperty\u001b[0m\u001b[0;34m\u001b[0m\u001b[0;34m\u001b[0m\u001b[0m\n\u001b[1;32m    733\u001b[0m     \u001b[0;32mdef\u001b[0m \u001b[0mvocab\u001b[0m\u001b[0;34m(\u001b[0m\u001b[0mself\u001b[0m\u001b[0;34m)\u001b[0m\u001b[0;34m:\u001b[0m\u001b[0;34m\u001b[0m\u001b[0;34m\u001b[0m\u001b[0m\n\u001b[0;32m--> 734\u001b[0;31m         raise AttributeError(\n\u001b[0m\u001b[1;32m    735\u001b[0m             \u001b[0;34m\"The vocab attribute was removed from KeyedVector in Gensim 4.0.0.\\n\"\u001b[0m\u001b[0;34m\u001b[0m\u001b[0;34m\u001b[0m\u001b[0m\n\u001b[1;32m    736\u001b[0m             \u001b[0;34m\"Use KeyedVector's .key_to_index dict, .index_to_key list, and methods \"\u001b[0m\u001b[0;34m\u001b[0m\u001b[0;34m\u001b[0m\u001b[0m\n",
            "\u001b[0;31mAttributeError\u001b[0m: The vocab attribute was removed from KeyedVector in Gensim 4.0.0.\nUse KeyedVector's .key_to_index dict, .index_to_key list, and methods .get_vecattr(key, attr) and .set_vecattr(key, attr, new_val) instead.\nSee https://github.com/RaRe-Technologies/gensim/wiki/Migrating-from-Gensim-3.x-to-4"
          ]
        }
      ],
      "source": [
        "wv.vocab"
      ]
    },
    {
      "cell_type": "code",
      "execution_count": null,
      "metadata": {
        "colab": {
          "base_uri": "https://localhost:8080/",
          "height": 287
        },
        "id": "PDTu5QxTD1rA",
        "outputId": "c5146886-4656-4edc-fcbe-14a8f4e912be"
      },
      "outputs": [
        {
          "output_type": "error",
          "ename": "KeyError",
          "evalue": "\"Key 'moye moye' not present in vocabulary\"",
          "traceback": [
            "\u001b[0;31m---------------------------------------------------------------------------\u001b[0m",
            "\u001b[0;31mKeyError\u001b[0m                                  Traceback (most recent call last)",
            "\u001b[0;32m<ipython-input-15-eb74eade89f7>\u001b[0m in \u001b[0;36m<cell line: 1>\u001b[0;34m()\u001b[0m\n\u001b[0;32m----> 1\u001b[0;31m \u001b[0mwv\u001b[0m\u001b[0;34m.\u001b[0m\u001b[0mmost_similar\u001b[0m\u001b[0;34m(\u001b[0m\u001b[0;34m'moye moye'\u001b[0m\u001b[0;34m)\u001b[0m \u001b[0;31m# It is not in the list\u001b[0m\u001b[0;34m\u001b[0m\u001b[0;34m\u001b[0m\u001b[0m\n\u001b[0m",
            "\u001b[0;32m/usr/local/lib/python3.10/dist-packages/gensim/models/keyedvectors.py\u001b[0m in \u001b[0;36mmost_similar\u001b[0;34m(self, positive, negative, topn, clip_start, clip_end, restrict_vocab, indexer)\u001b[0m\n\u001b[1;32m    839\u001b[0m \u001b[0;34m\u001b[0m\u001b[0m\n\u001b[1;32m    840\u001b[0m         \u001b[0;31m# compute the weighted average of all keys\u001b[0m\u001b[0;34m\u001b[0m\u001b[0;34m\u001b[0m\u001b[0m\n\u001b[0;32m--> 841\u001b[0;31m         \u001b[0mmean\u001b[0m \u001b[0;34m=\u001b[0m \u001b[0mself\u001b[0m\u001b[0;34m.\u001b[0m\u001b[0mget_mean_vector\u001b[0m\u001b[0;34m(\u001b[0m\u001b[0mkeys\u001b[0m\u001b[0;34m,\u001b[0m \u001b[0mweight\u001b[0m\u001b[0;34m,\u001b[0m \u001b[0mpre_normalize\u001b[0m\u001b[0;34m=\u001b[0m\u001b[0;32mTrue\u001b[0m\u001b[0;34m,\u001b[0m \u001b[0mpost_normalize\u001b[0m\u001b[0;34m=\u001b[0m\u001b[0;32mTrue\u001b[0m\u001b[0;34m,\u001b[0m \u001b[0mignore_missing\u001b[0m\u001b[0;34m=\u001b[0m\u001b[0;32mFalse\u001b[0m\u001b[0;34m)\u001b[0m\u001b[0;34m\u001b[0m\u001b[0;34m\u001b[0m\u001b[0m\n\u001b[0m\u001b[1;32m    842\u001b[0m         all_keys = [\n\u001b[1;32m    843\u001b[0m             \u001b[0mself\u001b[0m\u001b[0;34m.\u001b[0m\u001b[0mget_index\u001b[0m\u001b[0;34m(\u001b[0m\u001b[0mkey\u001b[0m\u001b[0;34m)\u001b[0m \u001b[0;32mfor\u001b[0m \u001b[0mkey\u001b[0m \u001b[0;32min\u001b[0m \u001b[0mkeys\u001b[0m \u001b[0;32mif\u001b[0m \u001b[0misinstance\u001b[0m\u001b[0;34m(\u001b[0m\u001b[0mkey\u001b[0m\u001b[0;34m,\u001b[0m \u001b[0m_KEY_TYPES\u001b[0m\u001b[0;34m)\u001b[0m \u001b[0;32mand\u001b[0m \u001b[0mself\u001b[0m\u001b[0;34m.\u001b[0m\u001b[0mhas_index_for\u001b[0m\u001b[0;34m(\u001b[0m\u001b[0mkey\u001b[0m\u001b[0;34m)\u001b[0m\u001b[0;34m\u001b[0m\u001b[0;34m\u001b[0m\u001b[0m\n",
            "\u001b[0;32m/usr/local/lib/python3.10/dist-packages/gensim/models/keyedvectors.py\u001b[0m in \u001b[0;36mget_mean_vector\u001b[0;34m(self, keys, weights, pre_normalize, post_normalize, ignore_missing)\u001b[0m\n\u001b[1;32m    516\u001b[0m                 \u001b[0mtotal_weight\u001b[0m \u001b[0;34m+=\u001b[0m \u001b[0mabs\u001b[0m\u001b[0;34m(\u001b[0m\u001b[0mweights\u001b[0m\u001b[0;34m[\u001b[0m\u001b[0midx\u001b[0m\u001b[0;34m]\u001b[0m\u001b[0;34m)\u001b[0m\u001b[0;34m\u001b[0m\u001b[0;34m\u001b[0m\u001b[0m\n\u001b[1;32m    517\u001b[0m             \u001b[0;32melif\u001b[0m \u001b[0;32mnot\u001b[0m \u001b[0mignore_missing\u001b[0m\u001b[0;34m:\u001b[0m\u001b[0;34m\u001b[0m\u001b[0;34m\u001b[0m\u001b[0m\n\u001b[0;32m--> 518\u001b[0;31m                 \u001b[0;32mraise\u001b[0m \u001b[0mKeyError\u001b[0m\u001b[0;34m(\u001b[0m\u001b[0;34mf\"Key '{key}' not present in vocabulary\"\u001b[0m\u001b[0;34m)\u001b[0m\u001b[0;34m\u001b[0m\u001b[0;34m\u001b[0m\u001b[0m\n\u001b[0m\u001b[1;32m    519\u001b[0m \u001b[0;34m\u001b[0m\u001b[0m\n\u001b[1;32m    520\u001b[0m         \u001b[0;32mif\u001b[0m \u001b[0mtotal_weight\u001b[0m \u001b[0;34m>\u001b[0m \u001b[0;36m0\u001b[0m\u001b[0;34m:\u001b[0m\u001b[0;34m\u001b[0m\u001b[0;34m\u001b[0m\u001b[0m\n",
            "\u001b[0;31mKeyError\u001b[0m: \"Key 'moye moye' not present in vocabulary\""
          ]
        }
      ],
      "source": [
        "wv.most_similar('moye moye') # It is not in the list"
      ]
    },
    {
      "cell_type": "code",
      "execution_count": null,
      "metadata": {
        "colab": {
          "base_uri": "https://localhost:8080/"
        },
        "id": "hTlWLsKIEhEw",
        "outputId": "2fcad545-30b9-4c6a-e42a-5d76dfe4b46a"
      },
      "outputs": [
        {
          "output_type": "execute_result",
          "data": {
            "text/plain": [
              "[('tendulkar', 0.7856917381286621),\n",
              " ('ganguly', 0.7785738706588745),\n",
              " ('sehwag', 0.7773319482803345),\n",
              " ('dravid', 0.7691141366958618),\n",
              " ('sachin_tendulkar', 0.741614580154419),\n",
              " ('laxman', 0.7271499037742615),\n",
              " ('KrisSrikkanth_says', 0.6995106339454651),\n",
              " ('murali', 0.6993196606636047),\n",
              " ('afridi', 0.6891643404960632),\n",
              " ('odi', 0.6883801817893982)]"
            ]
          },
          "metadata": {},
          "execution_count": 20
        }
      ],
      "source": [
        "wv.most_similar('sachin')"
      ]
    },
    {
      "cell_type": "code",
      "execution_count": null,
      "metadata": {
        "colab": {
          "base_uri": "https://localhost:8080/"
        },
        "id": "MPaD4i8pIWvh",
        "outputId": "a34d8139-093d-4897-d2e8-a74cff022455"
      },
      "outputs": [
        {
          "data": {
            "text/plain": [
              "['__class__',\n",
              " '__contains__',\n",
              " '__delattr__',\n",
              " '__dict__',\n",
              " '__dir__',\n",
              " '__doc__',\n",
              " '__eq__',\n",
              " '__format__',\n",
              " '__ge__',\n",
              " '__getattribute__',\n",
              " '__getitem__',\n",
              " '__gt__',\n",
              " '__hash__',\n",
              " '__init__',\n",
              " '__init_subclass__',\n",
              " '__le__',\n",
              " '__len__',\n",
              " '__lt__',\n",
              " '__module__',\n",
              " '__ne__',\n",
              " '__new__',\n",
              " '__reduce__',\n",
              " '__reduce_ex__',\n",
              " '__repr__',\n",
              " '__setattr__',\n",
              " '__setitem__',\n",
              " '__sizeof__',\n",
              " '__str__',\n",
              " '__subclasshook__',\n",
              " '__weakref__',\n",
              " '_adapt_by_suffix',\n",
              " '_load_specials',\n",
              " '_log_evaluate_word_analogies',\n",
              " '_save_specials',\n",
              " '_smart_save',\n",
              " '_upconvert_old_d2vkv',\n",
              " '_upconvert_old_vocab',\n",
              " 'add_lifecycle_event',\n",
              " 'add_vector',\n",
              " 'add_vectors',\n",
              " 'allocate_vecattrs',\n",
              " 'closer_than',\n",
              " 'cosine_similarities',\n",
              " 'distance',\n",
              " 'distances',\n",
              " 'doesnt_match',\n",
              " 'evaluate_word_analogies',\n",
              " 'evaluate_word_pairs',\n",
              " 'expandos',\n",
              " 'fill_norms',\n",
              " 'get_index',\n",
              " 'get_mean_vector',\n",
              " 'get_normed_vectors',\n",
              " 'get_vecattr',\n",
              " 'get_vector',\n",
              " 'has_index_for',\n",
              " 'index2entity',\n",
              " 'index2word',\n",
              " 'index_to_key',\n",
              " 'init_sims',\n",
              " 'intersect_word2vec_format',\n",
              " 'key_to_index',\n",
              " 'lifecycle_events',\n",
              " 'load',\n",
              " 'load_word2vec_format',\n",
              " 'log_accuracy',\n",
              " 'log_evaluate_word_pairs',\n",
              " 'mapfile_path',\n",
              " 'most_similar',\n",
              " 'most_similar_cosmul',\n",
              " 'most_similar_to_given',\n",
              " 'n_similarity',\n",
              " 'next_index',\n",
              " 'norms',\n",
              " 'rank',\n",
              " 'rank_by_centrality',\n",
              " 'relative_cosine_similarity',\n",
              " 'resize_vectors',\n",
              " 'save',\n",
              " 'save_word2vec_format',\n",
              " 'set_vecattr',\n",
              " 'similar_by_key',\n",
              " 'similar_by_vector',\n",
              " 'similar_by_word',\n",
              " 'similarity',\n",
              " 'similarity_unseen_docs',\n",
              " 'sort_by_descending_frequency',\n",
              " 'unit_normalize_all',\n",
              " 'vector_size',\n",
              " 'vectors',\n",
              " 'vectors_for_all',\n",
              " 'vectors_norm',\n",
              " 'vocab',\n",
              " 'wmdistance',\n",
              " 'word_vec',\n",
              " 'words_closer_than']"
            ]
          },
          "execution_count": 14,
          "metadata": {},
          "output_type": "execute_result"
        }
      ],
      "source": [
        "dir(wv)"
      ]
    },
    {
      "cell_type": "code",
      "execution_count": null,
      "metadata": {
        "colab": {
          "background_save": true
        },
        "id": "wpVOo2tEIfSf",
        "outputId": "b9dfdb0b-ffe8-4be8-9b7e-32e20afb1b87"
      },
      "outputs": [
        {
          "ename": "AttributeError",
          "evalue": "The vocab attribute was removed from KeyedVector in Gensim 4.0.0.\nUse KeyedVector's .key_to_index dict, .index_to_key list, and methods .get_vecattr(key, attr) and .set_vecattr(key, attr, new_val) instead.\nSee https://github.com/RaRe-Technologies/gensim/wiki/Migrating-from-Gensim-3.x-to-4",
          "output_type": "error",
          "traceback": [
            "\u001b[0;31m---------------------------------------------------------------------------\u001b[0m",
            "\u001b[0;31mAttributeError\u001b[0m                            Traceback (most recent call last)",
            "\u001b[0;32m<ipython-input-15-f3791d82984b>\u001b[0m in \u001b[0;36m<cell line: 1>\u001b[0;34m()\u001b[0m\n\u001b[0;32m----> 1\u001b[0;31m \u001b[0mwv\u001b[0m\u001b[0;34m.\u001b[0m\u001b[0mvocab\u001b[0m\u001b[0;34m\u001b[0m\u001b[0;34m\u001b[0m\u001b[0m\n\u001b[0m",
            "\u001b[0;32m/usr/local/lib/python3.10/dist-packages/gensim/models/keyedvectors.py\u001b[0m in \u001b[0;36mvocab\u001b[0;34m(self)\u001b[0m\n\u001b[1;32m    732\u001b[0m     \u001b[0;34m@\u001b[0m\u001b[0mproperty\u001b[0m\u001b[0;34m\u001b[0m\u001b[0;34m\u001b[0m\u001b[0m\n\u001b[1;32m    733\u001b[0m     \u001b[0;32mdef\u001b[0m \u001b[0mvocab\u001b[0m\u001b[0;34m(\u001b[0m\u001b[0mself\u001b[0m\u001b[0;34m)\u001b[0m\u001b[0;34m:\u001b[0m\u001b[0;34m\u001b[0m\u001b[0;34m\u001b[0m\u001b[0m\n\u001b[0;32m--> 734\u001b[0;31m         raise AttributeError(\n\u001b[0m\u001b[1;32m    735\u001b[0m             \u001b[0;34m\"The vocab attribute was removed from KeyedVector in Gensim 4.0.0.\\n\"\u001b[0m\u001b[0;34m\u001b[0m\u001b[0;34m\u001b[0m\u001b[0m\n\u001b[1;32m    736\u001b[0m             \u001b[0;34m\"Use KeyedVector's .key_to_index dict, .index_to_key list, and methods \"\u001b[0m\u001b[0;34m\u001b[0m\u001b[0;34m\u001b[0m\u001b[0m\n",
            "\u001b[0;31mAttributeError\u001b[0m: The vocab attribute was removed from KeyedVector in Gensim 4.0.0.\nUse KeyedVector's .key_to_index dict, .index_to_key list, and methods .get_vecattr(key, attr) and .set_vecattr(key, attr, new_val) instead.\nSee https://github.com/RaRe-Technologies/gensim/wiki/Migrating-from-Gensim-3.x-to-4"
          ]
        }
      ],
      "source": [
        "wv.vocab"
      ]
    },
    {
      "cell_type": "code",
      "execution_count": null,
      "metadata": {
        "id": "6AHRqYO8Ijm7"
      },
      "outputs": [],
      "source": []
    }
  ],
  "metadata": {
    "accelerator": "GPU",
    "colab": {
      "gpuType": "T4",
      "provenance": []
    },
    "kernelspec": {
      "display_name": "Python 3",
      "name": "python3"
    },
    "language_info": {
      "name": "python"
    }
  },
  "nbformat": 4,
  "nbformat_minor": 0
}