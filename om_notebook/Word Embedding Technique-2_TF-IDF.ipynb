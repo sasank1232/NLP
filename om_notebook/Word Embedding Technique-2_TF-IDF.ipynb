{
 "cells": [
  {
   "cell_type": "markdown",
   "id": "a2998034",
   "metadata": {},
   "source": [
    "Term Frequency Inverse Document Frequency (TFIDF) analysis is one of the simple and robust methods to understand the context of a text. \n",
    "\n",
    "Term Frequency and Inverse Document Frequency is used to find the related content and important words and phrases in a larger text. Implementing TF-IDF analysis is very easy using Python. \n",
    "\n",
    "Computers cannot understand the meaning of a text, but they can understand numbers. The words can be converted to numbers so that the relationship between them can be understood.\n"
   ]
  },
  {
   "cell_type": "markdown",
   "id": "7c407ec9",
   "metadata": {},
   "source": [
    "### Term Frequency:\n",
    "\n",
    "The term is frequency measure of a word w in a document (text) d. \n",
    "\n",
    "It is equal to the number of instances of word w in document d divided by the total number of words in document d. \n",
    "\n",
    "Term frequency serves as a metric to determine a word’s occurrence in a document as compared to the total number of words in a document. The denominator is always the same."
   ]
  },
  {
   "cell_type": "markdown",
   "id": "2ca0ca6c",
   "metadata": {},
   "source": [
    "<img decoding=\"async\" loading=\"lazy\" class=\"alignnone\" src=\"https://editor.analyticsvidhya.com/uploads/27405Screenshot_1.jpg\" alt=\"term frequency | Reviews Classifier Using TF-IDF\" width=\"773\" height=\"102\">"
   ]
  },
  {
   "cell_type": "markdown",
   "id": "377f5df7",
   "metadata": {},
   "source": [
    "### Inverse Document Frequency (IDF)\n",
    "\n",
    "This parameter gives a numeric value of the importance of a word. \n",
    "\n",
    "Inverse Document frequency of word w is defined as the total number of documents (N) in a text corpus D, divided by the number of documents containing w."
   ]
  },
  {
   "cell_type": "markdown",
   "id": "1e35c0f9",
   "metadata": {},
   "source": [
    "<img decoding=\"async\" loading=\"lazy\" class=\"alignnone\" src=\"https://editor.analyticsvidhya.com/uploads/80300Screenshot_2.jpg\" alt=\"Inverse document frequency\" width=\"760\" height=\"86\">"
   ]
  },
  {
   "cell_type": "markdown",
   "id": "595c003e",
   "metadata": {},
   "source": [
    "The product of TF and IDF is the TF-IDF. TF-IDF is usually one of the best metrics to determine if a term is significant to a text. It represents the importance of a word in a particular document."
   ]
  },
  {
   "cell_type": "markdown",
   "id": "fddc0416",
   "metadata": {},
   "source": [
    "**Term Frequency**\n",
    "\n",
    "**Sentence-1**\n",
    "\n",
    "- good movie\n",
    "\n",
    "**Sentence-2**\n",
    "\n",
    "- good snacks\n",
    "\n",
    "**Sentence-3**\n",
    "\n",
    "- movie snacks good\n",
    "\n",
    "\n",
    "|vocab|Sentence-1|Sentence-2|Sentence-3|\n",
    "|--------|-----|---|----|\n",
    "|good|1/2|1/2|1/3|\n",
    "|movie|1/2|0/2|1/3|\n",
    "|snacks|0/2|1/2|1/3|"
   ]
  },
  {
   "cell_type": "markdown",
   "id": "59d6fcae",
   "metadata": {},
   "source": [
    "**Inverse document frequency**\n",
    "\n",
    "\n",
    "|vocab|Idf|\n",
    "|-----|---|\n",
    "|good|loge(3/3)|\n",
    "|movie|loge(3/2)|\n",
    "|snacks|loge(3/2)|"
   ]
  },
  {
   "cell_type": "markdown",
   "id": "7fbe5936",
   "metadata": {},
   "source": [
    "**Term Frequency** * **Inverse document frequency**\n",
    "\n",
    "\n",
    "\n",
    "|Sentence|good|movie|Snacks|\n",
    "|--------|-----|---|----|\n",
    "|Sentence-1|1/2*0=0|1/2*loge(3/2)|0|\n",
    "|Sentence-2|1/2*0=0|0|1/2*loge(3/2)|\n",
    "|Sentence-3|1/3*0=0|1/3*loge(3/2)|1/3*loge(3/2)|\n",
    "\n",
    "\n",
    "|Sentence|good|movie|Snacks|\n",
    "|--------|-----|---|----|\n",
    "|Sentence-1|0|1/2*loge(3/2)|0|\n",
    "|Sentence-2|0|0|1/2*loge(3/2)|\n",
    "|Sentence-3|0|1/3*loge(3/2)|1/3*loge(3/2)|\n",
    "\n",
    "\n",
    "\n",
    "> good is present in every sentence so the value becomes zero: less importance\n",
    "\n",
    "> movie is present in only two sentences\n"
   ]
  },
  {
   "cell_type": "code",
   "execution_count": null,
   "id": "eec58004",
   "metadata": {},
   "outputs": [],
   "source": [
    "Let’s cover an example of 3 documents -\n",
    "\n",
    "Document 1            It is going to rain today.\n",
    "\n",
    "Document 2            Today I am not going outside.\n",
    "\n",
    "Document 3            I am going to watch the season premiere."
   ]
  },
  {
   "cell_type": "code",
   "execution_count": 19,
   "id": "de84d389",
   "metadata": {},
   "outputs": [],
   "source": [
    "d1=\"It is going to rain today\"\n",
    "d2=\"Today I am not going outside\"\n",
    "d3=\"I am going to watch the season premiere\"\n",
    "\n",
    "l1=d1.split()\n",
    "l2=d2.split()\n",
    "l3=d3.split()\n",
    "val1=set(l1+l2+l3)"
   ]
  },
  {
   "cell_type": "code",
   "execution_count": 29,
   "id": "cbb7c25e",
   "metadata": {},
   "outputs": [
    {
     "data": {
      "text/plain": [
       "{'going': 0.17,\n",
       " 'It': 0.17,\n",
       " 'I': 0.17,\n",
       " 'not': 0,\n",
       " 'premiere': 0,\n",
       " 'to': 0.17,\n",
       " 'is': 0.17,\n",
       " 'outside': 0,\n",
       " 'today': 0.17,\n",
       " 'the': 0,\n",
       " 'rain': 0.17,\n",
       " 'season': 0,\n",
       " 'watch': 0,\n",
       " 'am': 0,\n",
       " 'Today': 0}"
      ]
     },
     "execution_count": 29,
     "metadata": {},
     "output_type": "execute_result"
    }
   ],
   "source": [
    "dict1={}\n",
    "for i in val1:\n",
    "    if i in d1:\n",
    "        dict1[i]=round(1/len(l1),2)\n",
    "    else:\n",
    "        dict1[i]=0\n",
    "        \n",
    "dict1"
   ]
  },
  {
   "cell_type": "code",
   "execution_count": 31,
   "id": "dcd602f0",
   "metadata": {},
   "outputs": [
    {
     "data": {
      "text/plain": [
       "{'going': 0.17,\n",
       " 'It': 0.17,\n",
       " 'I': 0.17,\n",
       " 'not': 0,\n",
       " 'premiere': 0,\n",
       " 'to': 0.17,\n",
       " 'is': 0.17,\n",
       " 'outside': 0,\n",
       " 'today': 0.17,\n",
       " 'the': 0,\n",
       " 'rain': 0.17,\n",
       " 'season': 0,\n",
       " 'watch': 0,\n",
       " 'am': 0,\n",
       " 'Today': 0}"
      ]
     },
     "execution_count": 31,
     "metadata": {},
     "output_type": "execute_result"
    }
   ],
   "source": [
    "dict2={}\n",
    "for i in val1:\n",
    "    if i in d1:\n",
    "        dict2[i]=round(1/len(l2),2)\n",
    "    else:\n",
    "        dict2[i]=0\n",
    "        \n",
    "dict2"
   ]
  },
  {
   "cell_type": "code",
   "execution_count": 32,
   "id": "6ae57311",
   "metadata": {},
   "outputs": [
    {
     "data": {
      "text/plain": [
       "{'going': 0.12,\n",
       " 'It': 0.12,\n",
       " 'I': 0.12,\n",
       " 'not': 0,\n",
       " 'premiere': 0,\n",
       " 'to': 0.12,\n",
       " 'is': 0.12,\n",
       " 'outside': 0,\n",
       " 'today': 0.12,\n",
       " 'the': 0,\n",
       " 'rain': 0.12,\n",
       " 'season': 0,\n",
       " 'watch': 0,\n",
       " 'am': 0,\n",
       " 'Today': 0}"
      ]
     },
     "execution_count": 32,
     "metadata": {},
     "output_type": "execute_result"
    }
   ],
   "source": [
    "dict3={}\n",
    "for i in val1:\n",
    "    if i in d1:\n",
    "        dict3[i]=round(1/len(l3),2)\n",
    "    else:\n",
    "        dict3[i]=0\n",
    "        \n",
    "dict3"
   ]
  },
  {
   "cell_type": "code",
   "execution_count": 36,
   "id": "df71a888",
   "metadata": {},
   "outputs": [],
   "source": [
    "import pandas as pd\n",
    "df1=pd.DataFrame(dict1,index=['A'])\n",
    "df2=pd.DataFrame(dict2,index=['B'])\n",
    "df3=pd.DataFrame(dict3,index=['C'])"
   ]
  },
  {
   "cell_type": "code",
   "execution_count": 38,
   "id": "92133912",
   "metadata": {},
   "outputs": [
    {
     "name": "stderr",
     "output_type": "stream",
     "text": [
      "C:\\Users\\omkar\\AppData\\Local\\Temp\\ipykernel_5504\\1774066239.py:1: FutureWarning: The frame.append method is deprecated and will be removed from pandas in a future version. Use pandas.concat instead.\n",
      "  df1.append(df2).append(df3)\n",
      "C:\\Users\\omkar\\AppData\\Local\\Temp\\ipykernel_5504\\1774066239.py:1: FutureWarning: The frame.append method is deprecated and will be removed from pandas in a future version. Use pandas.concat instead.\n",
      "  df1.append(df2).append(df3)\n"
     ]
    },
    {
     "data": {
      "text/html": [
       "<div>\n",
       "<style scoped>\n",
       "    .dataframe tbody tr th:only-of-type {\n",
       "        vertical-align: middle;\n",
       "    }\n",
       "\n",
       "    .dataframe tbody tr th {\n",
       "        vertical-align: top;\n",
       "    }\n",
       "\n",
       "    .dataframe thead th {\n",
       "        text-align: right;\n",
       "    }\n",
       "</style>\n",
       "<table border=\"1\" class=\"dataframe\">\n",
       "  <thead>\n",
       "    <tr style=\"text-align: right;\">\n",
       "      <th></th>\n",
       "      <th>going</th>\n",
       "      <th>It</th>\n",
       "      <th>I</th>\n",
       "      <th>not</th>\n",
       "      <th>premiere</th>\n",
       "      <th>to</th>\n",
       "      <th>is</th>\n",
       "      <th>outside</th>\n",
       "      <th>today</th>\n",
       "      <th>the</th>\n",
       "      <th>rain</th>\n",
       "      <th>season</th>\n",
       "      <th>watch</th>\n",
       "      <th>am</th>\n",
       "      <th>Today</th>\n",
       "    </tr>\n",
       "  </thead>\n",
       "  <tbody>\n",
       "    <tr>\n",
       "      <th>A</th>\n",
       "      <td>0.17</td>\n",
       "      <td>0.17</td>\n",
       "      <td>0.17</td>\n",
       "      <td>0</td>\n",
       "      <td>0</td>\n",
       "      <td>0.17</td>\n",
       "      <td>0.17</td>\n",
       "      <td>0</td>\n",
       "      <td>0.17</td>\n",
       "      <td>0</td>\n",
       "      <td>0.17</td>\n",
       "      <td>0</td>\n",
       "      <td>0</td>\n",
       "      <td>0</td>\n",
       "      <td>0</td>\n",
       "    </tr>\n",
       "    <tr>\n",
       "      <th>B</th>\n",
       "      <td>0.17</td>\n",
       "      <td>0.17</td>\n",
       "      <td>0.17</td>\n",
       "      <td>0</td>\n",
       "      <td>0</td>\n",
       "      <td>0.17</td>\n",
       "      <td>0.17</td>\n",
       "      <td>0</td>\n",
       "      <td>0.17</td>\n",
       "      <td>0</td>\n",
       "      <td>0.17</td>\n",
       "      <td>0</td>\n",
       "      <td>0</td>\n",
       "      <td>0</td>\n",
       "      <td>0</td>\n",
       "    </tr>\n",
       "    <tr>\n",
       "      <th>C</th>\n",
       "      <td>0.12</td>\n",
       "      <td>0.12</td>\n",
       "      <td>0.12</td>\n",
       "      <td>0</td>\n",
       "      <td>0</td>\n",
       "      <td>0.12</td>\n",
       "      <td>0.12</td>\n",
       "      <td>0</td>\n",
       "      <td>0.12</td>\n",
       "      <td>0</td>\n",
       "      <td>0.12</td>\n",
       "      <td>0</td>\n",
       "      <td>0</td>\n",
       "      <td>0</td>\n",
       "      <td>0</td>\n",
       "    </tr>\n",
       "  </tbody>\n",
       "</table>\n",
       "</div>"
      ],
      "text/plain": [
       "   going    It     I  not  premiere    to    is  outside  today  the  rain  season  watch  am  Today\n",
       "A   0.17  0.17  0.17    0         0  0.17  0.17        0   0.17    0  0.17       0      0   0      0\n",
       "B   0.17  0.17  0.17    0         0  0.17  0.17        0   0.17    0  0.17       0      0   0      0\n",
       "C   0.12  0.12  0.12    0         0  0.12  0.12        0   0.12    0  0.12       0      0   0      0"
      ]
     },
     "execution_count": 38,
     "metadata": {},
     "output_type": "execute_result"
    }
   ],
   "source": [
    "df1.append(df2).append(df3)"
   ]
  },
  {
   "cell_type": "code",
   "execution_count": 42,
   "id": "87104692",
   "metadata": {},
   "outputs": [
    {
     "data": {
      "text/plain": [
       "0.4054651081081644"
      ]
     },
     "execution_count": 42,
     "metadata": {},
     "output_type": "execute_result"
    }
   ],
   "source": [
    "import numpy as np\n",
    "np.log(3/2)"
   ]
  },
  {
   "cell_type": "code",
   "execution_count": null,
   "id": "15492137",
   "metadata": {},
   "outputs": [],
   "source": [
    "# to : log(3/2)"
   ]
  },
  {
   "cell_type": "markdown",
   "id": "37515372",
   "metadata": {},
   "source": [
    "### TfidfVectorizer"
   ]
  },
  {
   "cell_type": "code",
   "execution_count": null,
   "id": "7d52b654",
   "metadata": {},
   "outputs": [],
   "source": []
  },
  {
   "cell_type": "code",
   "execution_count": 1,
   "id": "ec54d210",
   "metadata": {},
   "outputs": [
    {
     "name": "stdout",
     "output_type": "stream",
     "text": [
      "['going rain today.', 'Today going outside.', 'going watch season premiere.']\n"
     ]
    }
   ],
   "source": [
    "Document1= \"going rain today.\"\n",
    "Document2= \"Today going outside.\"\n",
    "Document3= \"going watch season premiere.\"\n",
    "Doc = [Document1 ,Document2 , Document3]\n",
    "print(Doc)"
   ]
  },
  {
   "cell_type": "code",
   "execution_count": 2,
   "id": "4ef5b728",
   "metadata": {},
   "outputs": [],
   "source": [
    "from sklearn.feature_extraction.text import TfidfVectorizer\n",
    "vectorizer = TfidfVectorizer()\n",
    "X = vectorizer.fit_transform(Doc)"
   ]
  },
  {
   "cell_type": "code",
   "execution_count": 3,
   "id": "05559632",
   "metadata": {},
   "outputs": [
    {
     "data": {
      "text/plain": [
       "{'going': 0,\n",
       " 'rain': 3,\n",
       " 'today': 5,\n",
       " 'outside': 1,\n",
       " 'watch': 6,\n",
       " 'season': 4,\n",
       " 'premiere': 2}"
      ]
     },
     "execution_count": 3,
     "metadata": {},
     "output_type": "execute_result"
    }
   ],
   "source": [
    "vectorizer.vocabulary_ # index order"
   ]
  },
  {
   "cell_type": "code",
   "execution_count": 5,
   "id": "ae3f6b58-ea67-4cf6-9d8d-6f4d358c4399",
   "metadata": {},
   "outputs": [
    {
     "data": {
      "text/plain": [
       "array([[0.42544054, 0.        , 0.        , 0.72033345, 0.        ,\n",
       "        0.54783215, 0.        ],\n",
       "       [0.42544054, 0.72033345, 0.        , 0.        , 0.        ,\n",
       "        0.54783215, 0.        ],\n",
       "       [0.32274454, 0.        , 0.54645401, 0.        , 0.54645401,\n",
       "        0.        , 0.54645401]])"
      ]
     },
     "execution_count": 5,
     "metadata": {},
     "output_type": "execute_result"
    }
   ],
   "source": [
    "X.toarray()"
   ]
  },
  {
   "cell_type": "code",
   "execution_count": 6,
   "id": "fe93f72f",
   "metadata": {},
   "outputs": [
    {
     "name": "stdout",
     "output_type": "stream",
     "text": [
      "Document 1 ['going', 'rain', 'today']\n",
      "Document 2 ['today', 'going', 'outside']\n",
      "Document 3 ['going', 'watch', 'season', 'premiere']\n",
      "Document transform [[0.42544054 0.         0.         0.72033345 0.         0.54783215\n",
      "  0.        ]\n",
      " [0.42544054 0.72033345 0.         0.         0.         0.54783215\n",
      "  0.        ]\n",
      " [0.32274454 0.         0.54645401 0.         0.54645401 0.\n",
      "  0.54645401]]\n"
     ]
    }
   ],
   "source": [
    "analyze = vectorizer.build_analyzer()\n",
    "print(\"Document 1\",analyze(Document1)) # Individual tf-idf\n",
    "print(\"Document 2\",analyze(Document2))\n",
    "print(\"Document 3\",analyze(Document3))\n",
    "print(\"Document transform\",X.toarray()) # all together"
   ]
  },
  {
   "cell_type": "code",
   "execution_count": null,
   "id": "5fe9017d",
   "metadata": {},
   "outputs": [],
   "source": []
  },
  {
   "cell_type": "code",
   "execution_count": 6,
   "id": "821cd632",
   "metadata": {},
   "outputs": [
    {
     "data": {
      "text/plain": [
       "array(['going', 'outside', 'premiere', 'rain', 'season', 'today', 'watch'],\n",
       "      dtype=object)"
      ]
     },
     "execution_count": 6,
     "metadata": {},
     "output_type": "execute_result"
    }
   ],
   "source": [
    "vectorizer.get_feature_names_out()  # sorted order of vocab"
   ]
  },
  {
   "cell_type": "markdown",
   "id": "f7b7de66",
   "metadata": {},
   "source": [
    "The output signifies the important words which add context to 3 sentences. These are the words that are important in all 3 sentences and now you can ask questions of whatever nature you like to the machine, stuff like"
   ]
  },
  {
   "cell_type": "code",
   "execution_count": 5,
   "id": "a0b88045",
   "metadata": {},
   "outputs": [
    {
     "data": {
      "text/plain": [
       "7"
      ]
     },
     "execution_count": 5,
     "metadata": {},
     "output_type": "execute_result"
    }
   ],
   "source": [
    "len(X.toarray()[0])"
   ]
  },
  {
   "cell_type": "code",
   "execution_count": 6,
   "id": "a7a442b0",
   "metadata": {},
   "outputs": [
    {
     "data": {
      "text/plain": [
       "array([0.42544054, 0.        , 0.        , 0.72033345, 0.        ,\n",
       "       0.54783215, 0.        ])"
      ]
     },
     "execution_count": 6,
     "metadata": {},
     "output_type": "execute_result"
    }
   ],
   "source": [
    "X.toarray()[0]"
   ]
  },
  {
   "cell_type": "code",
   "execution_count": 6,
   "id": "c7c2e3e1",
   "metadata": {},
   "outputs": [
    {
     "name": "stdout",
     "output_type": "stream",
     "text": [
      "['good movie.', 'good snacks.', 'movie snacks good.']\n",
      "Document 1 ['good', 'movie']\n",
      "Document 2 ['good', 'snacks']\n",
      "Document 3 ['movie', 'snacks', 'good']\n",
      "Document transform [[1.         1.28768207 0.        ]\n",
      " [1.         0.         1.28768207]\n",
      " [1.         1.28768207 1.28768207]]\n"
     ]
    },
    {
     "data": {
      "text/plain": [
       "array(['good', 'movie', 'snacks'], dtype=object)"
      ]
     },
     "execution_count": 6,
     "metadata": {},
     "output_type": "execute_result"
    }
   ],
   "source": [
    "# With out Normalization\n",
    "Document1= \"good movie.\"\n",
    "Document2= \"good snacks.\"\n",
    "Document3= \"movie snacks good.\"\n",
    "Doc = [Document1 ,Document2 , Document3]\n",
    "print(Doc)\n",
    "\n",
    "\n",
    "from sklearn.feature_extraction.text import TfidfVectorizer\n",
    "vectorizer = TfidfVectorizer(norm=None)\n",
    "X = vectorizer.fit_transform(Doc)\n",
    "\n",
    "analyze = vectorizer.build_analyzer()\n",
    "print(\"Document 1\",analyze(Document1))\n",
    "print(\"Document 2\",analyze(Document2))\n",
    "print(\"Document 3\",analyze(Document3))\n",
    "print(\"Document transform\",X.toarray())\n",
    "\n",
    "vectorizer.get_feature_names_out()"
   ]
  },
  {
   "cell_type": "code",
   "execution_count": 11,
   "id": "fa1b8661",
   "metadata": {},
   "outputs": [
    {
     "data": {
      "text/plain": [
       "1.0000000025623583"
      ]
     },
     "execution_count": 11,
     "metadata": {},
     "output_type": "execute_result"
    }
   ],
   "source": [
    "import numpy as np\n",
    "v1=[0.61335554, 0.78980693, 0]\n",
    "np.linalg.norm(v1)"
   ]
  },
  {
   "cell_type": "markdown",
   "id": "4ee20bec",
   "metadata": {},
   "source": [
    "\n",
    "\n",
    "|Sentence|good|movie|Snacks|\n",
    "|--------|-----|---|----|\n",
    "|Sentence-1|1/2*0=0|1/2*loge(3/2)|0|\n",
    "|Sentence-2|1/2*0=0|0|1/2*loge(3/2)|\n",
    "|Sentence-3|1/3*0=0|1/3*loge(3/2)|1/3*loge(3/2)|\n",
    "\n",
    "\n",
    "|Sentence|good|movie|Snacks|\n",
    "|--------|-----|---|----|\n",
    "|Sentence-1|0|1/2*loge(3/2)|0|\n",
    "|Sentence-2|0|0|1/2*loge(3/2)|\n",
    "|Sentence-3|0|1/3*loge(3/2)|1/3*loge(3/2)|"
   ]
  },
  {
   "cell_type": "markdown",
   "id": "82f13f0d",
   "metadata": {},
   "source": [
    "(count_of_term_t_in_d) * ((log ((NUMBER_OF_DOCUMENTS + 1) / (Number_of_documents_where_t_appears +1 )) + 1)\n"
   ]
  },
  {
   "cell_type": "code",
   "execution_count": 12,
   "id": "60daacbf",
   "metadata": {},
   "outputs": [
    {
     "data": {
      "text/plain": [
       "1.0"
      ]
     },
     "execution_count": 12,
     "metadata": {},
     "output_type": "execute_result"
    }
   ],
   "source": [
    "import numpy as np\n",
    "1 * (np.log((3 + 1)/(3+1)) + 1)"
   ]
  },
  {
   "cell_type": "code",
   "execution_count": 13,
   "id": "4481d382",
   "metadata": {},
   "outputs": [
    {
     "data": {
      "text/plain": [
       "1.2876820724517808"
      ]
     },
     "execution_count": 13,
     "metadata": {},
     "output_type": "execute_result"
    }
   ],
   "source": [
    "# Movie\n",
    "1 * (np.log((3 + 1)/(2+1)) + 1)"
   ]
  },
  {
   "cell_type": "code",
   "execution_count": 24,
   "id": "6254e8df",
   "metadata": {},
   "outputs": [
    {
     "name": "stdout",
     "output_type": "stream",
     "text": [
      "['good movie.', 'good snacks.', 'movie snacks good.']\n",
      "Document 1 ['good', 'movie']\n",
      "Document 2 ['good', 'snacks']\n",
      "Document 3 ['movie', 'snacks', 'good']\n",
      "Document transform [[0.61335554 0.78980693 0.        ]\n",
      " [0.61335554 0.         0.78980693]\n",
      " [0.48133417 0.61980538 0.61980538]]\n"
     ]
    },
    {
     "data": {
      "text/plain": [
       "array(['good', 'movie', 'snacks'], dtype=object)"
      ]
     },
     "execution_count": 24,
     "metadata": {},
     "output_type": "execute_result"
    }
   ],
   "source": [
    "# With Normalization\n",
    "Document1= \"good movie.\"\n",
    "Document2= \"good snacks.\"\n",
    "Document3= \"movie snacks good.\"\n",
    "Doc = [Document1 ,Document2 , Document3]\n",
    "print(Doc)\n",
    "\n",
    "\n",
    "from sklearn.feature_extraction.text import TfidfVectorizer\n",
    "vectorizer = TfidfVectorizer()\n",
    "X = vectorizer.fit_transform(Doc)\n",
    "\n",
    "analyze = vectorizer.build_analyzer()\n",
    "print(\"Document 1\",analyze(Document1))\n",
    "print(\"Document 2\",analyze(Document2))\n",
    "print(\"Document 3\",analyze(Document3))\n",
    "print(\"Document transform\",X.toarray())\n",
    "\n",
    "vectorizer.get_feature_names_out()"
   ]
  },
  {
   "cell_type": "code",
   "execution_count": 23,
   "id": "37f4bbb8",
   "metadata": {
    "scrolled": true
   },
   "outputs": [
    {
     "name": "stdout",
     "output_type": "stream",
     "text": [
      "[0.61335554 0.78980693 0.        ]\n"
     ]
    }
   ],
   "source": [
    "tfidf_vector = [1, 1.28768207, 0 ]\n",
    "\n",
    "tfidf_vector = tfidf_vector / np.linalg.norm(tfidf_vector)\n",
    "\n",
    "print(tfidf_vector)"
   ]
  }
 ],
 "metadata": {
  "kernelspec": {
   "display_name": "Python 3 (ipykernel)",
   "language": "python",
   "name": "python3"
  },
  "language_info": {
   "codemirror_mode": {
    "name": "ipython",
    "version": 3
   },
   "file_extension": ".py",
   "mimetype": "text/x-python",
   "name": "python",
   "nbconvert_exporter": "python",
   "pygments_lexer": "ipython3",
   "version": "3.11.7"
  }
 },
 "nbformat": 4,
 "nbformat_minor": 5
}
